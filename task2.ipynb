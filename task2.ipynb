{
 "cells": [
  {
   "cell_type": "code",
   "execution_count": null,
   "id": "95013e8c-edca-478b-a10c-6436cad90d57",
   "metadata": {},
   "outputs": [],
   "source": [
    "# Task 2: Web Scraping in Jupyter Notebook\n"
   ]
  },
  {
   "cell_type": "code",
   "execution_count": 1,
   "id": "769659ce-ff19-49ef-ab27-5bacb6622838",
   "metadata": {},
   "outputs": [],
   "source": [
    "## Imports\n",
    "# We are importing the necessary libraries\n",
    "import os\n",
    "import requests\n",
    "import re\n",
    "from bs4 import BeautifulSoup"
   ]
  },
  {
   "cell_type": "code",
   "execution_count": 3,
   "id": "302d117c-8254-4b80-b1be-97227e4eaea8",
   "metadata": {},
   "outputs": [],
   "source": [
    "# Function to get the HTML source text of the Medium article\n",
    "def get_page():\n",
    "    global url\n",
    "    url = input(\"Enter URL of a Medium article: \")\n",
    "    if not re.match(r'https?://medium.com/', url):\n",
    "        print('Please enter a valid website, or make sure it is a Medium article')\n",
    "        sys.exit(1)\n",
    "    res = requests.get(url)\n",
    "    res.raise_for_status()\n",
    "    soup = BeautifulSoup(res.text, 'html.parser')\n",
    "    return soup"
   ]
  },
  {
   "cell_type": "code",
   "execution_count": 4,
   "id": "83b82e44-1dbd-4022-8ef0-8c9d06ca726d",
   "metadata": {},
   "outputs": [],
   "source": [
    "# Function to remove all the HTML tags and replace some with specific strings\n",
    "def clean(text):\n",
    "    rep = {\"<br>\": \"\\n\", \"<br/>\": \"\\n\", \"<li>\": \"\\n\"}\n",
    "    rep = dict((re.escape(k), v) for k, v in rep.items())\n",
    "    pattern = re.compile(\"|\".join(rep.keys()))\n",
    "    text = pattern.sub(lambda m: rep[re.escape(m.group(0))], text)\n",
    "    text = re.sub(r'<(.*?)>', '', text)\n",
    "    return text"
   ]
  },
  {
   "cell_type": "code",
   "execution_count": 5,
   "id": "0869d6e2-336c-4cf2-96ce-386f7d63a575",
   "metadata": {},
   "outputs": [],
   "source": [
    "# Function to collect text content from the parsed HTML\n",
    "def collect_text(soup):\n",
    "    text = f'url: {url}\\n\\n'\n",
    "    para_text = soup.find_all('p')\n",
    "    for para in para_text:\n",
    "        text += f\"{para.text}\\n\\n\"\n",
    "    return text\n"
   ]
  },
  {
   "cell_type": "code",
   "execution_count": 6,
   "id": "ed085c18-6871-461a-9632-e1d3855cd0d2",
   "metadata": {},
   "outputs": [],
   "source": [
    "# Function to save file in the current directory\n",
    "def save_file(text):\n",
    "    if not os.path.exists('./scraped_articles'):\n",
    "        os.mkdir('./scraped_articles')\n",
    "    name = url.split(\"/\")[-1]\n",
    "    fname = f'scraped_articles/{name}.txt'\n",
    "    with open(fname, 'w', encoding='utf-8') as f:\n",
    "        f.write(text)\n",
    "    print(f'File saved in directory {fname}')"
   ]
  },
  {
   "cell_type": "code",
   "execution_count": null,
   "id": "2469677f-5f45-4a2b-99a6-7f3da09d7a4d",
   "metadata": {},
   "outputs": [],
   "source": [
    "## This is the Main Execution\n",
    "if __name__ == '__main__':\n",
    "    text = collect_text(get_page())\n",
    "    save_file(text)\n"
   ]
  },
  {
   "cell_type": "code",
   "execution_count": null,
   "id": "a3d1c850-5aee-434d-a592-f07af873a46d",
   "metadata": {},
   "outputs": [],
   "source": []
  }
 ],
 "metadata": {
  "kernelspec": {
   "display_name": "Python [conda env:base] *",
   "language": "python",
   "name": "conda-base-py"
  },
  "language_info": {
   "codemirror_mode": {
    "name": "ipython",
    "version": 3
   },
   "file_extension": ".py",
   "mimetype": "text/x-python",
   "name": "python",
   "nbconvert_exporter": "python",
   "pygments_lexer": "ipython3",
   "version": "3.12.7"
  }
 },
 "nbformat": 4,
 "nbformat_minor": 5
}
